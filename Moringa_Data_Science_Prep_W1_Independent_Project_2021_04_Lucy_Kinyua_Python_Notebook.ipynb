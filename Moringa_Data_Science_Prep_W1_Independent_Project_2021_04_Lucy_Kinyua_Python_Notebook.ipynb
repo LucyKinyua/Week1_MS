{
  "nbformat": 4,
  "nbformat_minor": 0,
  "metadata": {
    "colab": {
      "name": "Moringa_Data_Science_Prep_W1_Independent_Project_2021_04_Lucy_Kinyua_Python_Notebook.ipynb",
      "provenance": [],
      "authorship_tag": "ABX9TyPw9Upv37WlDkLozjQkxAPL",
      "include_colab_link": true
    },
    "kernelspec": {
      "name": "python3",
      "display_name": "Python 3"
    },
    "language_info": {
      "name": "python"
    }
  },
  "cells": [
    {
      "cell_type": "markdown",
      "metadata": {
        "id": "view-in-github",
        "colab_type": "text"
      },
      "source": [
        "<a href=\"https://colab.research.google.com/github/LucyKinyua/Week1_MS/blob/main/Moringa_Data_Science_Prep_W1_Independent_Project_2021_04_Lucy_Kinyua_Python_Notebook.ipynb\" target=\"_parent\"><img src=\"https://colab.research.google.com/assets/colab-badge.svg\" alt=\"Open In Colab\"/></a>"
      ]
    },
    {
      "cell_type": "markdown",
      "metadata": {
        "id": "pldmDVBer3nE"
      },
      "source": [
        "Python Programming Exercise Instructions:\n",
        "- Take in two values from a user (both in pounds) then convert those values to kilograms.\n",
        "- Perform the sum of the values.\n",
        "- Perform the average of the values.\n",
        "- Find the difference between both values.  \n",
        "- Find the quotient when one value is divided by the other.\n",
        "- Determine and print out whether any of the numbers are even or odd.\n",
        "- Have comments applied appropriately."
      ]
    },
    {
      "cell_type": "code",
      "metadata": {
        "colab": {
          "base_uri": "https://localhost:8080/"
        },
        "id": "1K4IVWlSFdWZ",
        "outputId": "6f870912-69ef-4800-fafb-4d7e1ed70ab7"
      },
      "source": [
        "# Solution:\n",
        "# \n",
        "\n",
        "p1 = float(input('Value 1 (Pounds): '))\n",
        "# Let's find out if the inputed value is even or odd:\n",
        "if int(p1) % 2:\n",
        "    print('- odd')\n",
        "else:\n",
        "    print('- even')\n",
        "# The % sign is like division, only it checks for the remainder,...\n",
        "#... so if the number divided by 2 has a remainder of 0 it's even. Otherwise, odd.\n",
        "\n",
        "kg1 = p1*0.453592\n",
        "# NB: 1 pound = 0.453592 kilograms\n",
        "print('Value 1 (Kilograms): ' + str(kg1))\n",
        "# Let's find out if the answer is even or odd\n",
        "if int(kg1) % 2:\n",
        "    print('- odd')\n",
        "else:\n",
        "    print('- even')\n",
        "\n",
        "p2 = float(input('Value 2 (Pounds): '))\n",
        "# Let's find out if the inputed value is even or odd:\n",
        "if int(p2) % 2:\n",
        "    print('- odd')\n",
        "else:\n",
        "    print('- even')\n",
        "\n",
        "kg2 = p2*0.453592\n",
        "print('Value 1 (Kilograms): ' + str(kg2))\n",
        "# Let's find out if the answer is even or odd\n",
        "if int(kg2) % 2:\n",
        "    print('- odd')\n",
        "else:\n",
        "    print('- even')\n",
        "\n",
        "# The sum of the values (in kilograms):\n",
        "sum = kg1 + kg2\n",
        "print('Sum: ' + str(sum))\n",
        "#Let's find out if the answer is even or odd\n",
        "if int(sum) % 2:\n",
        "    print('- odd')\n",
        "else:\n",
        "    print('- even')\n",
        "\n",
        "# The average of the values (in kilograms):\n",
        "average = (kg1 + kg2)/2\n",
        "print('Average: ' + str(average))\n",
        "#Let's find out if the answer is even or odd\n",
        "if int(average) % 2:\n",
        "    print('- odd')\n",
        "else:\n",
        "    print('- even')\n",
        "\n",
        "# The difference between the values (in kilograms):\n",
        "difference = kg1 - kg2\n",
        "print('Difference: ' + str(difference))\n",
        "#Let's find out if the answer is even or odd\n",
        "if int(difference) % 2:\n",
        "    print('- odd')\n",
        "else:\n",
        "    print('- even')\n",
        "\n",
        "# The quotient when the first value is divided by the second value (in kilograms):\n",
        "quotient = kg1/kg2\n",
        "print('Quotient: ' + str(quotient))\n",
        "#Let's find out if the answer is even or odd\n",
        "if int(quotient) % 2:\n",
        "    print('- odd')\n",
        "else:\n",
        "    print('- even')\n"
      ],
      "execution_count": null,
      "outputs": [
        {
          "output_type": "stream",
          "text": [
            "Value 1 (Pounds): 53\n",
            "- odd\n",
            "Value 1 (Kilograms): 24.040376\n",
            "- even\n",
            "Value 2 (Pounds): 62\n",
            "- even\n",
            "Value 1 (Kilograms): 28.122704\n",
            "- even\n",
            "Sum: 52.163079999999994\n",
            "- even\n",
            "Average: 26.081539999999997\n",
            "- even\n",
            "Difference: -4.082328\n",
            "- even\n",
            "Quotient: 0.8548387096774194\n",
            "- even\n"
          ],
          "name": "stdout"
        }
      ]
    }
  ]
}