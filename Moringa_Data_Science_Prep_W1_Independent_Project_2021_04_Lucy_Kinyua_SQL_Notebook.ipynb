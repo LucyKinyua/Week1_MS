{
  "nbformat": 4,
  "nbformat_minor": 0,
  "metadata": {
    "colab": {
      "name": "Moringa_Data_Science_Prep_W1_Independent_Project_2021_04_Lucy_Kinyua_SQL_Notebook.ipynb",
      "provenance": [],
      "authorship_tag": "ABX9TyO+wmoWs/RGueljshPqb3pF",
      "include_colab_link": true
    },
    "kernelspec": {
      "name": "python3",
      "display_name": "Python 3"
    },
    "language_info": {
      "name": "python"
    }
  },
  "cells": [
    {
      "cell_type": "markdown",
      "metadata": {
        "id": "view-in-github",
        "colab_type": "text"
      },
      "source": [
        "<a href=\"https://colab.research.google.com/github/LucyKinyua/Week1_MS/blob/main/Moringa_Data_Science_Prep_W1_Independent_Project_2021_04_Lucy_Kinyua_SQL_Notebook.ipynb\" target=\"_parent\"><img src=\"https://colab.research.google.com/assets/colab-badge.svg\" alt=\"Open In Colab\"/></a>"
      ]
    },
    {
      "cell_type": "markdown",
      "metadata": {
        "id": "r4ILwPQ4s1mO"
      },
      "source": [
        "SQL Programming Exercise:\n",
        "- You will act as a Data Science Consultant who will answer questions posed using a dataset collected by Dalberg.\n",
        "- The dataset contains crops grown in Uganda."
      ]
    },
    {
      "cell_type": "markdown",
      "metadata": {
        "id": "EGtCigcptDFD"
      },
      "source": [
        "Dataset Desription:\n",
        "\n",
        "This dataset contains yield and population per subcounty.\n",
        "\n",
        "The glossary for this table is as follows:\n",
        "- POP: total population for the subcounty\n",
        "- S_Yield_Ha: average yield for sorghum for the subcounty (Kg/Ha)\n",
        "- M_Yield_Ha: average yield for maize for the subcounty (Kg/Ha)\n",
        "- Crop_Area_Ha: total crop area for the subcounty (Ha)\n",
        "- S_Area_Ha: total sorghum crop area for the subcounty (Ha)\n",
        "- M_Area_Ha: total maize crop area for the subcounty (Ha)\n",
        "- S_Prod_Tot: total productivity for the sorghum for the subcounty (Kg)\n",
        "- M_Prod_Tot: total productivity for the maize for the subcounty (Kg)\n"
      ]
    },
    {
      "cell_type": "markdown",
      "metadata": {
        "id": "VVwiwtlltaGH"
      },
      "source": [
        "Questions:\n",
        "- Display a list of Sub Counties and their population and areas.\n",
        "- Sort the list of districts by total crop area (descending order).\n",
        "- Select only the Sub counties from the Moroto district, order them alphabetically and show their production of sorghum.\n",
        "- Compute the total Maize production per District.\n",
        "- Compute the number of Sub counties where Maize is produced and the total Maize production per District.\n",
        "- Compute the overall Crop area in all Sub counties where population is over 20000.\n",
        "- Sort the Maize production in descending order by Districts, only taking into account Sub counties where Maize area is larger than Sorghum area, and display the number of Sub counties per district matching that criteria."
      ]
    },
    {
      "cell_type": "code",
      "metadata": {
        "id": "Ce4IThXtUmLI",
        "colab": {
          "base_uri": "https://localhost:8080/",
          "height": 35
        },
        "outputId": "908886fb-56c8-48d0-8cbe-385f4754d459"
      },
      "source": [
        "# First, I load an sql extension into this environment\n",
        "# This extension will allow me to work with sql on Colaboratory\n",
        "#\n",
        "%load_ext sql\n",
        "\n",
        "# Then, I connect to the in memory sqlite database\n",
        "#\n",
        "%sql sqlite://"
      ],
      "execution_count": null,
      "outputs": [
        {
          "output_type": "execute_result",
          "data": {
            "application/vnd.google.colaboratory.intrinsic+json": {
              "type": "string"
            },
            "text/plain": [
              "'Connected: @None'"
            ]
          },
          "metadata": {
            "tags": []
          },
          "execution_count": 6
        }
      ]
    },
    {
      "cell_type": "code",
      "metadata": {
        "id": "LcGdxKW0wpWX"
      },
      "source": [
        "# In order to read any csv file, I will need to import the python csv library\n",
        "# This will allow me to read the csv file(s) that  will have uploaded to this environment\n",
        "#\n",
        "import csv\n",
        "\n",
        "# I will also need a pandas library which is used for data manipulation in this notebook.\n",
        "#\n",
        "import pandas as pd"
      ],
      "execution_count": null,
      "outputs": []
    },
    {
      "cell_type": "code",
      "metadata": {
        "id": "LhesRQ__xD46"
      },
      "source": [
        "# Upon uploading the csv file, I will then load the first table from the CSV file\n",
        "#\n",
        "with open('Uganda_Karamoja_Subcounty_Crop_Yield_Population.csv','r') as f:\n",
        "    Uganda_Karamoja_Subcounty_Crop_Yield_Population = pd.read_csv(f, index_col=0, encoding='utf-8')"
      ],
      "execution_count": null,
      "outputs": []
    },
    {
      "cell_type": "code",
      "metadata": {
        "colab": {
          "base_uri": "https://localhost:8080/"
        },
        "id": "w_WskE7B6TUc",
        "outputId": "ebd4d644-bad7-4bc1-ac2c-4e3663d75379"
      },
      "source": [
        "# Drop existing tables similar to the one that I will work with in the current sqlite environment.\n",
        "\n",
        "%sql DROP TABLE Uganda_Karamoja_Subcounty_Crop_Yield_Population;"
      ],
      "execution_count": null,
      "outputs": [
        {
          "output_type": "stream",
          "text": [
            " * sqlite://\n",
            "(sqlite3.OperationalError) no such table: Uganda_Karamoja_Subcounty_Crop_Yield_Population\n",
            "[SQL: DROP TABLE Uganda_Karamoja_Subcounty_Crop_Yield_Population;]\n",
            "(Background on this error at: http://sqlalche.me/e/14/e3q8)\n"
          ],
          "name": "stdout"
        }
      ]
    },
    {
      "cell_type": "code",
      "metadata": {
        "colab": {
          "base_uri": "https://localhost:8080/",
          "height": 52
        },
        "id": "Bo4X02LA8w8G",
        "outputId": "708e62ac-ce1c-4989-af8c-ff9f038620c8"
      },
      "source": [
        "# Then push the data into a new table within the current sqlite Database\n",
        "#\n",
        "%sql PERSIST Uganda_Karamoja_Subcounty_Crop_Yield_Population;"
      ],
      "execution_count": null,
      "outputs": [
        {
          "output_type": "stream",
          "text": [
            " * sqlite://\n"
          ],
          "name": "stdout"
        },
        {
          "output_type": "execute_result",
          "data": {
            "application/vnd.google.colaboratory.intrinsic+json": {
              "type": "string"
            },
            "text/plain": [
              "'Persisted uganda_karamoja_subcounty_crop_yield_population'"
            ]
          },
          "metadata": {
            "tags": []
          },
          "execution_count": 22
        }
      ]
    },
    {
      "cell_type": "code",
      "metadata": {
        "colab": {
          "base_uri": "https://localhost:8080/",
          "height": 216
        },
        "id": "o3DqAQYYxqZP",
        "outputId": "5079bdda-7973-4170-83fc-cd3c4028e1b9"
      },
      "source": [
        "# Previewing the Uganda_Karamoja_Subcounty_Crop_Yield_Population table\n",
        "#\n",
        "%%sql\n",
        "SELECT * FROM Uganda_Karamoja_Subcounty_Crop_Yield_Population LIMIT 5;"
      ],
      "execution_count": null,
      "outputs": [
        {
          "output_type": "stream",
          "text": [
            " * sqlite://\n",
            "Done.\n"
          ],
          "name": "stdout"
        },
        {
          "output_type": "execute_result",
          "data": {
            "text/html": [
              "<table>\n",
              "    <thead>\n",
              "        <tr>\n",
              "            <th>OBJECTID</th>\n",
              "            <th>SUBCOUNTY_NAME</th>\n",
              "            <th>DISTRICT_NAME</th>\n",
              "            <th>POP</th>\n",
              "            <th>Area</th>\n",
              "            <th>Karamoja</th>\n",
              "            <th>S_Yield_Ha</th>\n",
              "            <th>M_Yield_Ha</th>\n",
              "            <th>Crop_Area_Ha</th>\n",
              "            <th>S_Area_Ha</th>\n",
              "            <th>M_Area_Ha</th>\n",
              "            <th>S_Prod_Tot</th>\n",
              "            <th>M_Prod_Tot</th>\n",
              "        </tr>\n",
              "    </thead>\n",
              "    <tbody>\n",
              "        <tr>\n",
              "            <td>263</td>\n",
              "            <td>KACHERI</td>\n",
              "            <td>KOTIDO</td>\n",
              "            <td>17244</td>\n",
              "            <td>1067176155</td>\n",
              "            <td>Y</td>\n",
              "            <td>354.20741069999997</td>\n",
              "            <td>1137.467019</td>\n",
              "            <td>7023.533691</td>\n",
              "            <td>6434.342449</td>\n",
              "            <td>528.1242294</td>\n",
              "            <td>2279091.779</td>\n",
              "            <td>600723.8929</td>\n",
              "        </tr>\n",
              "        <tr>\n",
              "            <td>264</td>\n",
              "            <td>KOTIDO</td>\n",
              "            <td>KOTIDO</td>\n",
              "            <td>52771</td>\n",
              "            <td>597575188</td>\n",
              "            <td>Y</td>\n",
              "            <td>367.89052319999996</td>\n",
              "            <td>1162.9966869999998</td>\n",
              "            <td>13587.990759999999</td>\n",
              "            <td>12455.59264</td>\n",
              "            <td>824.7670809</td>\n",
              "            <td>4582294.492</td>\n",
              "            <td>959201.3825</td>\n",
              "        </tr>\n",
              "        <tr>\n",
              "            <td>265</td>\n",
              "            <td>KOTIDO TOWN COUNCIL</td>\n",
              "            <td>KOTIDO</td>\n",
              "            <td>27389</td>\n",
              "            <td>23972401</td>\n",
              "            <td>Y</td>\n",
              "            <td>369.3141771</td>\n",
              "            <td>1167.005832</td>\n",
              "            <td>1656.5318550000002</td>\n",
              "            <td>1520.322052</td>\n",
              "            <td>8.561643817</td>\n",
              "            <td>561476.4874</td>\n",
              "            <td>9991.488268000001</td>\n",
              "        </tr>\n",
              "        <tr>\n",
              "            <td>266</td>\n",
              "            <td>NAKAPERIMORU</td>\n",
              "            <td>KOTIDO</td>\n",
              "            <td>38775</td>\n",
              "            <td>419111591</td>\n",
              "            <td>Y</td>\n",
              "            <td>283.3245689</td>\n",
              "            <td>852.3665784</td>\n",
              "            <td>7087.823334000001</td>\n",
              "            <td>6761.488901000001</td>\n",
              "            <td>45.72171184</td>\n",
              "            <td>1915695.928</td>\n",
              "            <td>38971.65908</td>\n",
              "        </tr>\n",
              "        <tr>\n",
              "            <td>267</td>\n",
              "            <td>PANYANGARA</td>\n",
              "            <td>KOTIDO</td>\n",
              "            <td>65704</td>\n",
              "            <td>880955930</td>\n",
              "            <td>Y</td>\n",
              "            <td>373.8369255</td>\n",
              "            <td>1283.859882</td>\n",
              "            <td>10398.24939</td>\n",
              "            <td>10111.198129999999</td>\n",
              "            <td>172.6119139</td>\n",
              "            <td>3779939.224</td>\n",
              "            <td>221609.5114</td>\n",
              "        </tr>\n",
              "    </tbody>\n",
              "</table>"
            ],
            "text/plain": [
              "[(263, 'KACHERI', 'KOTIDO', 17244, 1067176155, 'Y', 354.20741069999997, 1137.467019, 7023.533691, 6434.342449, 528.1242294, 2279091.779, 600723.8929),\n",
              " (264, 'KOTIDO', 'KOTIDO', 52771, 597575188, 'Y', 367.89052319999996, 1162.9966869999998, 13587.990759999999, 12455.59264, 824.7670809, 4582294.492, 959201.3825),\n",
              " (265, 'KOTIDO TOWN COUNCIL', 'KOTIDO', 27389, 23972401, 'Y', 369.3141771, 1167.005832, 1656.5318550000002, 1520.322052, 8.561643817, 561476.4874, 9991.488268000001),\n",
              " (266, 'NAKAPERIMORU', 'KOTIDO', 38775, 419111591, 'Y', 283.3245689, 852.3665784, 7087.823334000001, 6761.488901000001, 45.72171184, 1915695.928, 38971.65908),\n",
              " (267, 'PANYANGARA', 'KOTIDO', 65704, 880955930, 'Y', 373.8369255, 1283.859882, 10398.24939, 10111.198129999999, 172.6119139, 3779939.224, 221609.5114)]"
            ]
          },
          "metadata": {
            "tags": []
          },
          "execution_count": 23
        }
      ]
    },
    {
      "cell_type": "code",
      "metadata": {
        "colab": {
          "base_uri": "https://localhost:8080/",
          "height": 1000
        },
        "id": "5yA_VcmG2dz7",
        "outputId": "b90e4d1f-fcee-472b-a5bb-79c8d1224861"
      },
      "source": [
        "#Display a list of Sub Counties and their population and areas.\n",
        "#\n",
        "%%sql\n",
        "SELECT SUBCOUNTY_NAME, POP, Area FROM Uganda_Karamoja_Subcounty_Crop_Yield_Population;"
      ],
      "execution_count": null,
      "outputs": [
        {
          "output_type": "stream",
          "text": [
            " * sqlite://\n",
            "Done.\n"
          ],
          "name": "stdout"
        },
        {
          "output_type": "execute_result",
          "data": {
            "text/html": [
              "<table>\n",
              "    <thead>\n",
              "        <tr>\n",
              "            <th>SUBCOUNTY_NAME</th>\n",
              "            <th>POP</th>\n",
              "            <th>Area</th>\n",
              "        </tr>\n",
              "    </thead>\n",
              "    <tbody>\n",
              "        <tr>\n",
              "            <td>KACHERI</td>\n",
              "            <td>17244</td>\n",
              "            <td>1067176155</td>\n",
              "        </tr>\n",
              "        <tr>\n",
              "            <td>KOTIDO</td>\n",
              "            <td>52771</td>\n",
              "            <td>597575188</td>\n",
              "        </tr>\n",
              "        <tr>\n",
              "            <td>KOTIDO TOWN COUNCIL</td>\n",
              "            <td>27389</td>\n",
              "            <td>23972401</td>\n",
              "        </tr>\n",
              "        <tr>\n",
              "            <td>NAKAPERIMORU</td>\n",
              "            <td>38775</td>\n",
              "            <td>419111591</td>\n",
              "        </tr>\n",
              "        <tr>\n",
              "            <td>PANYANGARA</td>\n",
              "            <td>65704</td>\n",
              "            <td>880955930</td>\n",
              "        </tr>\n",
              "        <tr>\n",
              "            <td>RENGEN</td>\n",
              "            <td>41273</td>\n",
              "            <td>652744859</td>\n",
              "        </tr>\n",
              "        <tr>\n",
              "            <td>KAABONG  EAST</td>\n",
              "            <td>42221</td>\n",
              "            <td>60801942</td>\n",
              "        </tr>\n",
              "        <tr>\n",
              "            <td>KAABONG TOWN COUNCIL</td>\n",
              "            <td>38857</td>\n",
              "            <td>13071455</td>\n",
              "        </tr>\n",
              "        <tr>\n",
              "            <td>KAABONG WEST</td>\n",
              "            <td>41454</td>\n",
              "            <td>67612362</td>\n",
              "        </tr>\n",
              "        <tr>\n",
              "            <td>KALAPATA</td>\n",
              "            <td>99203</td>\n",
              "            <td>223116860</td>\n",
              "        </tr>\n",
              "        <tr>\n",
              "            <td>KAMION</td>\n",
              "            <td>60070</td>\n",
              "            <td>1199409465</td>\n",
              "        </tr>\n",
              "        <tr>\n",
              "            <td>KAPEDO</td>\n",
              "            <td>33951</td>\n",
              "            <td>304557831</td>\n",
              "        </tr>\n",
              "        <tr>\n",
              "            <td>KATHILE</td>\n",
              "            <td>56870</td>\n",
              "            <td>228457417</td>\n",
              "        </tr>\n",
              "        <tr>\n",
              "            <td>KAWALAKOL</td>\n",
              "            <td>37691</td>\n",
              "            <td>1742041261</td>\n",
              "        </tr>\n",
              "        <tr>\n",
              "            <td>LOBALANGIT</td>\n",
              "            <td>22907</td>\n",
              "            <td>302572789</td>\n",
              "        </tr>\n",
              "        <tr>\n",
              "            <td>LODIKO</td>\n",
              "            <td>31820</td>\n",
              "            <td>397700845</td>\n",
              "        </tr>\n",
              "        <tr>\n",
              "            <td>LOLELIA</td>\n",
              "            <td>100919</td>\n",
              "            <td>1069331387</td>\n",
              "        </tr>\n",
              "        <tr>\n",
              "            <td>LOYORO</td>\n",
              "            <td>16608</td>\n",
              "            <td>1330019236</td>\n",
              "        </tr>\n",
              "        <tr>\n",
              "            <td>NAPORE (KARENGA)</td>\n",
              "            <td>20394</td>\n",
              "            <td>309577387</td>\n",
              "        </tr>\n",
              "        <tr>\n",
              "            <td>SIDOK</td>\n",
              "            <td>24092</td>\n",
              "            <td>125330583</td>\n",
              "        </tr>\n",
              "        <tr>\n",
              "            <td>ABIM</td>\n",
              "            <td>14377</td>\n",
              "            <td>188613057</td>\n",
              "        </tr>\n",
              "        <tr>\n",
              "            <td>ABIM TOWN COUNCIL</td>\n",
              "            <td>11489</td>\n",
              "            <td>115941152</td>\n",
              "        </tr>\n",
              "        <tr>\n",
              "            <td>ALEREK</td>\n",
              "            <td>12573</td>\n",
              "            <td>1255760525</td>\n",
              "        </tr>\n",
              "        <tr>\n",
              "            <td>LOTUKEI</td>\n",
              "            <td>18641</td>\n",
              "            <td>191684465</td>\n",
              "        </tr>\n",
              "        <tr>\n",
              "            <td>MORULEM</td>\n",
              "            <td>16834</td>\n",
              "            <td>250364895</td>\n",
              "        </tr>\n",
              "        <tr>\n",
              "            <td>KARITA</td>\n",
              "            <td>45015</td>\n",
              "            <td>658008801</td>\n",
              "        </tr>\n",
              "        <tr>\n",
              "            <td>LOROO</td>\n",
              "            <td>22541</td>\n",
              "            <td>371970302</td>\n",
              "        </tr>\n",
              "        <tr>\n",
              "            <td>AMUDAT</td>\n",
              "            <td>30181</td>\n",
              "            <td>596393139</td>\n",
              "        </tr>\n",
              "        <tr>\n",
              "            <td>AMUDAT TOWN COUNCIL</td>\n",
              "            <td>4053</td>\n",
              "            <td>17207110</td>\n",
              "        </tr>\n",
              "        <tr>\n",
              "            <td>KATIKEKILE</td>\n",
              "            <td>11772</td>\n",
              "            <td>277451997</td>\n",
              "        </tr>\n",
              "        <tr>\n",
              "            <td>NADUNGET</td>\n",
              "            <td>42115</td>\n",
              "            <td>596023780</td>\n",
              "        </tr>\n",
              "        <tr>\n",
              "            <td>TAPAC</td>\n",
              "            <td>21999</td>\n",
              "            <td>622266516</td>\n",
              "        </tr>\n",
              "        <tr>\n",
              "            <td>NORTHERN DIVISION</td>\n",
              "            <td>7161</td>\n",
              "            <td>2738777</td>\n",
              "        </tr>\n",
              "        <tr>\n",
              "            <td>SOUTHERN DIVISION</td>\n",
              "            <td>3272</td>\n",
              "            <td>2121209</td>\n",
              "        </tr>\n",
              "        <tr>\n",
              "            <td>LOREGAE</td>\n",
              "            <td>26644</td>\n",
              "            <td>928683431</td>\n",
              "        </tr>\n",
              "        <tr>\n",
              "            <td>NAKAPIRIPIRIT TOWN COUNCIL</td>\n",
              "            <td>1418</td>\n",
              "            <td>4673094</td>\n",
              "        </tr>\n",
              "        <tr>\n",
              "            <td>NAMALU</td>\n",
              "            <td>25905</td>\n",
              "            <td>553067364</td>\n",
              "        </tr>\n",
              "        <tr>\n",
              "            <td>KAKOMONGOLE</td>\n",
              "            <td>15960</td>\n",
              "            <td>312709097</td>\n",
              "        </tr>\n",
              "        <tr>\n",
              "            <td>LOLACHAT</td>\n",
              "            <td>22801</td>\n",
              "            <td>642401705</td>\n",
              "        </tr>\n",
              "        <tr>\n",
              "            <td>LORENGEDWAT</td>\n",
              "            <td>9929</td>\n",
              "            <td>435714604</td>\n",
              "        </tr>\n",
              "        <tr>\n",
              "            <td>NABILATUK</td>\n",
              "            <td>27534</td>\n",
              "            <td>499776866</td>\n",
              "        </tr>\n",
              "        <tr>\n",
              "            <td>IRIIRI</td>\n",
              "            <td>46979</td>\n",
              "            <td>1030623258</td>\n",
              "        </tr>\n",
              "        <tr>\n",
              "            <td>LOPEEI</td>\n",
              "            <td>18815</td>\n",
              "            <td>790782350</td>\n",
              "        </tr>\n",
              "        <tr>\n",
              "            <td>LORENGECORA</td>\n",
              "            <td>2503</td>\n",
              "            <td>118997955</td>\n",
              "        </tr>\n",
              "        <tr>\n",
              "            <td>LOTOME</td>\n",
              "            <td>17834</td>\n",
              "            <td>125857565</td>\n",
              "        </tr>\n",
              "        <tr>\n",
              "            <td>MATANY</td>\n",
              "            <td>29495</td>\n",
              "            <td>338252511</td>\n",
              "        </tr>\n",
              "        <tr>\n",
              "            <td>NAPAK TOWN COUNCIL</td>\n",
              "            <td>8010</td>\n",
              "            <td>150906375</td>\n",
              "        </tr>\n",
              "        <tr>\n",
              "            <td>NGOLERIET</td>\n",
              "            <td>20790</td>\n",
              "            <td>158887552</td>\n",
              "        </tr>\n",
              "        <tr>\n",
              "            <td>NYAKWAE</td>\n",
              "            <td>16470</td>\n",
              "            <td>769609687</td>\n",
              "        </tr>\n",
              "        <tr>\n",
              "            <td>LOKOPO</td>\n",
              "            <td>23200</td>\n",
              "            <td>1794470536</td>\n",
              "        </tr>\n",
              "        <tr>\n",
              "            <td>RUPA</td>\n",
              "            <td>41493</td>\n",
              "            <td>2069554899</td>\n",
              "        </tr>\n",
              "        <tr>\n",
              "            <td>MORUITA</td>\n",
              "            <td>16588</td>\n",
              "            <td>839293722</td>\n",
              "        </tr>\n",
              "    </tbody>\n",
              "</table>"
            ],
            "text/plain": [
              "[('KACHERI', 17244, 1067176155),\n",
              " ('KOTIDO', 52771, 597575188),\n",
              " ('KOTIDO TOWN COUNCIL', 27389, 23972401),\n",
              " ('NAKAPERIMORU', 38775, 419111591),\n",
              " ('PANYANGARA', 65704, 880955930),\n",
              " ('RENGEN', 41273, 652744859),\n",
              " ('KAABONG  EAST', 42221, 60801942),\n",
              " ('KAABONG TOWN COUNCIL', 38857, 13071455),\n",
              " ('KAABONG WEST', 41454, 67612362),\n",
              " ('KALAPATA', 99203, 223116860),\n",
              " ('KAMION', 60070, 1199409465),\n",
              " ('KAPEDO', 33951, 304557831),\n",
              " ('KATHILE', 56870, 228457417),\n",
              " ('KAWALAKOL', 37691, 1742041261),\n",
              " ('LOBALANGIT', 22907, 302572789),\n",
              " ('LODIKO', 31820, 397700845),\n",
              " ('LOLELIA', 100919, 1069331387),\n",
              " ('LOYORO', 16608, 1330019236),\n",
              " ('NAPORE (KARENGA)', 20394, 309577387),\n",
              " ('SIDOK', 24092, 125330583),\n",
              " ('ABIM', 14377, 188613057),\n",
              " ('ABIM TOWN COUNCIL', 11489, 115941152),\n",
              " ('ALEREK', 12573, 1255760525),\n",
              " ('LOTUKEI', 18641, 191684465),\n",
              " ('MORULEM', 16834, 250364895),\n",
              " ('KARITA', 45015, 658008801),\n",
              " ('LOROO', 22541, 371970302),\n",
              " ('AMUDAT', 30181, 596393139),\n",
              " ('AMUDAT TOWN COUNCIL', 4053, 17207110),\n",
              " ('KATIKEKILE', 11772, 277451997),\n",
              " ('NADUNGET', 42115, 596023780),\n",
              " ('TAPAC', 21999, 622266516),\n",
              " ('NORTHERN DIVISION', 7161, 2738777),\n",
              " ('SOUTHERN DIVISION', 3272, 2121209),\n",
              " ('LOREGAE', 26644, 928683431),\n",
              " ('NAKAPIRIPIRIT TOWN COUNCIL', 1418, 4673094),\n",
              " ('NAMALU', 25905, 553067364),\n",
              " ('KAKOMONGOLE', 15960, 312709097),\n",
              " ('LOLACHAT', 22801, 642401705),\n",
              " ('LORENGEDWAT', 9929, 435714604),\n",
              " ('NABILATUK', 27534, 499776866),\n",
              " ('IRIIRI', 46979, 1030623258),\n",
              " ('LOPEEI', 18815, 790782350),\n",
              " ('LORENGECORA', 2503, 118997955),\n",
              " ('LOTOME', 17834, 125857565),\n",
              " ('MATANY', 29495, 338252511),\n",
              " ('NAPAK TOWN COUNCIL', 8010, 150906375),\n",
              " ('NGOLERIET', 20790, 158887552),\n",
              " ('NYAKWAE', 16470, 769609687),\n",
              " ('LOKOPO', 23200, 1794470536),\n",
              " ('RUPA', 41493, 2069554899),\n",
              " ('MORUITA', 16588, 839293722)]"
            ]
          },
          "metadata": {
            "tags": []
          },
          "execution_count": 24
        }
      ]
    },
    {
      "cell_type": "code",
      "metadata": {
        "colab": {
          "base_uri": "https://localhost:8080/",
          "height": 1000
        },
        "id": "X_pyaXWE2d_G",
        "outputId": "88d40b39-7b11-4937-aec2-cdcd2e99d581"
      },
      "source": [
        "# Sort the list of districts by total crop area (descending order).\n",
        "#\n",
        "%%sql\n",
        "SELECT DISTRICT_NAME FROM Uganda_Karamoja_Subcounty_Crop_Yield_Population\n",
        "ORDER BY Crop_Area_Ha DESC;"
      ],
      "execution_count": null,
      "outputs": [
        {
          "output_type": "stream",
          "text": [
            " * sqlite://\n",
            "Done.\n"
          ],
          "name": "stdout"
        },
        {
          "output_type": "execute_result",
          "data": {
            "text/html": [
              "<table>\n",
              "    <thead>\n",
              "        <tr>\n",
              "            <th>DISTRICT_NAME</th>\n",
              "        </tr>\n",
              "    </thead>\n",
              "    <tbody>\n",
              "        <tr>\n",
              "            <td>KOTIDO</td>\n",
              "        </tr>\n",
              "        <tr>\n",
              "            <td>KOTIDO</td>\n",
              "        </tr>\n",
              "        <tr>\n",
              "            <td>KOTIDO</td>\n",
              "        </tr>\n",
              "        <tr>\n",
              "            <td>KOTIDO</td>\n",
              "        </tr>\n",
              "        <tr>\n",
              "            <td>KOTIDO</td>\n",
              "        </tr>\n",
              "        <tr>\n",
              "            <td>KAABONG</td>\n",
              "        </tr>\n",
              "        <tr>\n",
              "            <td>NAPAK</td>\n",
              "        </tr>\n",
              "        <tr>\n",
              "            <td>NAKAPIRIPIRIT</td>\n",
              "        </tr>\n",
              "        <tr>\n",
              "            <td>NAKAPIRIPIRIT</td>\n",
              "        </tr>\n",
              "        <tr>\n",
              "            <td>NAPAK</td>\n",
              "        </tr>\n",
              "        <tr>\n",
              "            <td>NAKAPIRIPIRIT</td>\n",
              "        </tr>\n",
              "        <tr>\n",
              "            <td>KAABONG</td>\n",
              "        </tr>\n",
              "        <tr>\n",
              "            <td>NAKAPIRIPIRIT</td>\n",
              "        </tr>\n",
              "        <tr>\n",
              "            <td>NAKAPIRIPIRIT</td>\n",
              "        </tr>\n",
              "        <tr>\n",
              "            <td>NAPAK</td>\n",
              "        </tr>\n",
              "        <tr>\n",
              "            <td>NAPAK</td>\n",
              "        </tr>\n",
              "        <tr>\n",
              "            <td>KAABONG</td>\n",
              "        </tr>\n",
              "        <tr>\n",
              "            <td>KAABONG</td>\n",
              "        </tr>\n",
              "        <tr>\n",
              "            <td>AMUDAT</td>\n",
              "        </tr>\n",
              "        <tr>\n",
              "            <td>MOROTO</td>\n",
              "        </tr>\n",
              "        <tr>\n",
              "            <td>KAABONG</td>\n",
              "        </tr>\n",
              "        <tr>\n",
              "            <td>MOROTO</td>\n",
              "        </tr>\n",
              "        <tr>\n",
              "            <td>NAKAPIRIPIRIT</td>\n",
              "        </tr>\n",
              "        <tr>\n",
              "            <td>KAABONG</td>\n",
              "        </tr>\n",
              "        <tr>\n",
              "            <td>NAPAK</td>\n",
              "        </tr>\n",
              "        <tr>\n",
              "            <td>KOTIDO</td>\n",
              "        </tr>\n",
              "        <tr>\n",
              "            <td>AMUDAT</td>\n",
              "        </tr>\n",
              "        <tr>\n",
              "            <td>AMUDAT</td>\n",
              "        </tr>\n",
              "        <tr>\n",
              "            <td>KAABONG</td>\n",
              "        </tr>\n",
              "        <tr>\n",
              "            <td>KAABONG</td>\n",
              "        </tr>\n",
              "        <tr>\n",
              "            <td>ABIM</td>\n",
              "        </tr>\n",
              "        <tr>\n",
              "            <td>NAPAK</td>\n",
              "        </tr>\n",
              "        <tr>\n",
              "            <td>NAKAPIRIPIRIT</td>\n",
              "        </tr>\n",
              "        <tr>\n",
              "            <td>MOROTO</td>\n",
              "        </tr>\n",
              "        <tr>\n",
              "            <td>NAPAK</td>\n",
              "        </tr>\n",
              "        <tr>\n",
              "            <td>KAABONG</td>\n",
              "        </tr>\n",
              "        <tr>\n",
              "            <td>ABIM</td>\n",
              "        </tr>\n",
              "        <tr>\n",
              "            <td>KAABONG</td>\n",
              "        </tr>\n",
              "        <tr>\n",
              "            <td>KAABONG</td>\n",
              "        </tr>\n",
              "        <tr>\n",
              "            <td>KAABONG</td>\n",
              "        </tr>\n",
              "        <tr>\n",
              "            <td>ABIM</td>\n",
              "        </tr>\n",
              "        <tr>\n",
              "            <td>ABIM</td>\n",
              "        </tr>\n",
              "        <tr>\n",
              "            <td>NAPAK</td>\n",
              "        </tr>\n",
              "        <tr>\n",
              "            <td>ABIM</td>\n",
              "        </tr>\n",
              "        <tr>\n",
              "            <td>ABIM</td>\n",
              "        </tr>\n",
              "        <tr>\n",
              "            <td>KAABONG</td>\n",
              "        </tr>\n",
              "        <tr>\n",
              "            <td>KAABONG</td>\n",
              "        </tr>\n",
              "        <tr>\n",
              "            <td>MOROTO</td>\n",
              "        </tr>\n",
              "        <tr>\n",
              "            <td>AMUDAT</td>\n",
              "        </tr>\n",
              "        <tr>\n",
              "            <td>NAKAPIRIPIRIT</td>\n",
              "        </tr>\n",
              "        <tr>\n",
              "            <td>MOROTO</td>\n",
              "        </tr>\n",
              "        <tr>\n",
              "            <td>MOROTO</td>\n",
              "        </tr>\n",
              "    </tbody>\n",
              "</table>"
            ],
            "text/plain": [
              "[('KOTIDO',),\n",
              " ('KOTIDO',),\n",
              " ('KOTIDO',),\n",
              " ('KOTIDO',),\n",
              " ('KOTIDO',),\n",
              " ('KAABONG',),\n",
              " ('NAPAK',),\n",
              " ('NAKAPIRIPIRIT',),\n",
              " ('NAKAPIRIPIRIT',),\n",
              " ('NAPAK',),\n",
              " ('NAKAPIRIPIRIT',),\n",
              " ('KAABONG',),\n",
              " ('NAKAPIRIPIRIT',),\n",
              " ('NAKAPIRIPIRIT',),\n",
              " ('NAPAK',),\n",
              " ('NAPAK',),\n",
              " ('KAABONG',),\n",
              " ('KAABONG',),\n",
              " ('AMUDAT',),\n",
              " ('MOROTO',),\n",
              " ('KAABONG',),\n",
              " ('MOROTO',),\n",
              " ('NAKAPIRIPIRIT',),\n",
              " ('KAABONG',),\n",
              " ('NAPAK',),\n",
              " ('KOTIDO',),\n",
              " ('AMUDAT',),\n",
              " ('AMUDAT',),\n",
              " ('KAABONG',),\n",
              " ('KAABONG',),\n",
              " ('ABIM',),\n",
              " ('NAPAK',),\n",
              " ('NAKAPIRIPIRIT',),\n",
              " ('MOROTO',),\n",
              " ('NAPAK',),\n",
              " ('KAABONG',),\n",
              " ('ABIM',),\n",
              " ('KAABONG',),\n",
              " ('KAABONG',),\n",
              " ('KAABONG',),\n",
              " ('ABIM',),\n",
              " ('ABIM',),\n",
              " ('NAPAK',),\n",
              " ('ABIM',),\n",
              " ('ABIM',),\n",
              " ('KAABONG',),\n",
              " ('KAABONG',),\n",
              " ('MOROTO',),\n",
              " ('AMUDAT',),\n",
              " ('NAKAPIRIPIRIT',),\n",
              " ('MOROTO',),\n",
              " ('MOROTO',)]"
            ]
          },
          "metadata": {
            "tags": []
          },
          "execution_count": 26
        }
      ]
    },
    {
      "cell_type": "code",
      "metadata": {
        "colab": {
          "base_uri": "https://localhost:8080/",
          "height": 200
        },
        "id": "UsI6Kall2eKc",
        "outputId": "0e3bf9c6-bef0-4d67-e8ee-664478277cb5"
      },
      "source": [
        "# Select only the Sub counties from the Moroto district,...\n",
        "# ... order them alphabetically and show their production of sorghum.\n",
        "#\n",
        "%%sql\n",
        "SELECT SUBCOUNTY_NAME, S_Prod_Tot FROM Uganda_Karamoja_Subcounty_Crop_Yield_Population\n",
        "WHERE DISTRICT_NAME = 'MOROTO'\n",
        "ORDER BY SUBCOUNTY_NAME ASC;"
      ],
      "execution_count": null,
      "outputs": [
        {
          "output_type": "stream",
          "text": [
            " * sqlite://\n",
            "Done.\n"
          ],
          "name": "stdout"
        },
        {
          "output_type": "execute_result",
          "data": {
            "text/html": [
              "<table>\n",
              "    <thead>\n",
              "        <tr>\n",
              "            <th>SUBCOUNTY_NAME</th>\n",
              "            <th>S_Prod_Tot</th>\n",
              "        </tr>\n",
              "    </thead>\n",
              "    <tbody>\n",
              "        <tr>\n",
              "            <td>KATIKEKILE</td>\n",
              "            <td>9379.029413</td>\n",
              "        </tr>\n",
              "        <tr>\n",
              "            <td>NADUNGET</td>\n",
              "            <td>321630.539</td>\n",
              "        </tr>\n",
              "        <tr>\n",
              "            <td>NORTHERN DIVISION</td>\n",
              "            <td>17.28125956</td>\n",
              "        </tr>\n",
              "        <tr>\n",
              "            <td>RUPA</td>\n",
              "            <td>227298.5184</td>\n",
              "        </tr>\n",
              "        <tr>\n",
              "            <td>SOUTHERN DIVISION</td>\n",
              "            <td>19.67486547</td>\n",
              "        </tr>\n",
              "        <tr>\n",
              "            <td>TAPAC</td>\n",
              "            <td>49251.66081</td>\n",
              "        </tr>\n",
              "    </tbody>\n",
              "</table>"
            ],
            "text/plain": [
              "[('KATIKEKILE', 9379.029413),\n",
              " ('NADUNGET', 321630.539),\n",
              " ('NORTHERN DIVISION', 17.28125956),\n",
              " ('RUPA', 227298.5184),\n",
              " ('SOUTHERN DIVISION', 19.67486547),\n",
              " ('TAPAC', 49251.66081)]"
            ]
          },
          "metadata": {
            "tags": []
          },
          "execution_count": 29
        }
      ]
    },
    {
      "cell_type": "code",
      "metadata": {
        "colab": {
          "base_uri": "https://localhost:8080/",
          "height": 221
        },
        "id": "e0ODHVo62qvV",
        "outputId": "cf32f53b-7fa6-475b-8b88-9e8c18cc7d7b"
      },
      "source": [
        "# Compute the total Maize production per District.\n",
        "#\n",
        "%%sql\n",
        "SELECT DISTRICT_NAME, COUNT (M_Prod_Tot) FROM Uganda_Karamoja_Subcounty_Crop_Yield_Population\n",
        "GROUP BY DISTRICT_NAME;"
      ],
      "execution_count": null,
      "outputs": [
        {
          "output_type": "stream",
          "text": [
            " * sqlite://\n",
            "Done.\n"
          ],
          "name": "stdout"
        },
        {
          "output_type": "execute_result",
          "data": {
            "text/html": [
              "<table>\n",
              "    <thead>\n",
              "        <tr>\n",
              "            <th>DISTRICT_NAME</th>\n",
              "            <th>COUNT (M_Prod_Tot)</th>\n",
              "        </tr>\n",
              "    </thead>\n",
              "    <tbody>\n",
              "        <tr>\n",
              "            <td>ABIM</td>\n",
              "            <td>6</td>\n",
              "        </tr>\n",
              "        <tr>\n",
              "            <td>AMUDAT</td>\n",
              "            <td>4</td>\n",
              "        </tr>\n",
              "        <tr>\n",
              "            <td>KAABONG</td>\n",
              "            <td>14</td>\n",
              "        </tr>\n",
              "        <tr>\n",
              "            <td>KOTIDO</td>\n",
              "            <td>6</td>\n",
              "        </tr>\n",
              "        <tr>\n",
              "            <td>MOROTO</td>\n",
              "            <td>6</td>\n",
              "        </tr>\n",
              "        <tr>\n",
              "            <td>NAKAPIRIPIRIT</td>\n",
              "            <td>8</td>\n",
              "        </tr>\n",
              "        <tr>\n",
              "            <td>NAPAK</td>\n",
              "            <td>8</td>\n",
              "        </tr>\n",
              "    </tbody>\n",
              "</table>"
            ],
            "text/plain": [
              "[('ABIM', 6),\n",
              " ('AMUDAT', 4),\n",
              " ('KAABONG', 14),\n",
              " ('KOTIDO', 6),\n",
              " ('MOROTO', 6),\n",
              " ('NAKAPIRIPIRIT', 8),\n",
              " ('NAPAK', 8)]"
            ]
          },
          "metadata": {
            "tags": []
          },
          "execution_count": 39
        }
      ]
    },
    {
      "cell_type": "code",
      "metadata": {
        "colab": {
          "base_uri": "https://localhost:8080/",
          "height": 221
        },
        "id": "r8eTSFCb2q1W",
        "outputId": "5d05ecec-2644-4223-e7c9-1f2624c6314f"
      },
      "source": [
        "# Compute the number of Sub counties where Maize is produced...\n",
        "# ... and the total Maize production per District.\n",
        "#\n",
        "%%sql\n",
        "SELECT DISTRICT_NAME, M_Prod_Tot, COUNT (SUBCOUNTY_NAME) FROM Uganda_Karamoja_Subcounty_Crop_Yield_Population\n",
        "WHERE M_Prod_Tot > 0\n",
        "GROUP BY DISTRICT_NAME;"
      ],
      "execution_count": null,
      "outputs": [
        {
          "output_type": "stream",
          "text": [
            " * sqlite://\n",
            "Done.\n"
          ],
          "name": "stdout"
        },
        {
          "output_type": "execute_result",
          "data": {
            "text/html": [
              "<table>\n",
              "    <thead>\n",
              "        <tr>\n",
              "            <th>DISTRICT_NAME</th>\n",
              "            <th>M_Prod_Tot</th>\n",
              "            <th>COUNT (SUBCOUNTY_NAME)</th>\n",
              "        </tr>\n",
              "    </thead>\n",
              "    <tbody>\n",
              "        <tr>\n",
              "            <td>ABIM</td>\n",
              "            <td>258010.2444</td>\n",
              "            <td>6</td>\n",
              "        </tr>\n",
              "        <tr>\n",
              "            <td>AMUDAT</td>\n",
              "            <td>2081.356199</td>\n",
              "            <td>4</td>\n",
              "        </tr>\n",
              "        <tr>\n",
              "            <td>KAABONG</td>\n",
              "            <td>136265.6835</td>\n",
              "            <td>14</td>\n",
              "        </tr>\n",
              "        <tr>\n",
              "            <td>KOTIDO</td>\n",
              "            <td>179681.139</td>\n",
              "            <td>6</td>\n",
              "        </tr>\n",
              "        <tr>\n",
              "            <td>MOROTO</td>\n",
              "            <td>155838.875</td>\n",
              "            <td>5</td>\n",
              "        </tr>\n",
              "        <tr>\n",
              "            <td>NAKAPIRIPIRIT</td>\n",
              "            <td>1198586.875</td>\n",
              "            <td>8</td>\n",
              "        </tr>\n",
              "        <tr>\n",
              "            <td>NAPAK</td>\n",
              "            <td>414509.6206</td>\n",
              "            <td>8</td>\n",
              "        </tr>\n",
              "    </tbody>\n",
              "</table>"
            ],
            "text/plain": [
              "[('ABIM', 258010.2444, 6),\n",
              " ('AMUDAT', 2081.356199, 4),\n",
              " ('KAABONG', 136265.6835, 14),\n",
              " ('KOTIDO', 179681.139, 6),\n",
              " ('MOROTO', 155838.875, 5),\n",
              " ('NAKAPIRIPIRIT', 1198586.875, 8),\n",
              " ('NAPAK', 414509.6206, 8)]"
            ]
          },
          "metadata": {
            "tags": []
          },
          "execution_count": 41
        }
      ]
    },
    {
      "cell_type": "code",
      "metadata": {
        "colab": {
          "base_uri": "https://localhost:8080/",
          "height": 95
        },
        "id": "nNlTHH3j2q5S",
        "outputId": "af025e40-7d6b-40a8-9f5f-68d3b2506fc3"
      },
      "source": [
        "# Compute the overall Crop area in all Sub counties where population is over 20000.\n",
        "#\n",
        "%%sql\n",
        "SELECT COUNT (Crop_Area_Ha) FROM Uganda_Karamoja_Subcounty_Crop_Yield_Population\n",
        "WHERE POP > 20000;"
      ],
      "execution_count": null,
      "outputs": [
        {
          "output_type": "stream",
          "text": [
            " * sqlite://\n",
            "Done.\n"
          ],
          "name": "stdout"
        },
        {
          "output_type": "execute_result",
          "data": {
            "text/html": [
              "<table>\n",
              "    <thead>\n",
              "        <tr>\n",
              "            <th>COUNT (Crop_Area_Ha)</th>\n",
              "        </tr>\n",
              "    </thead>\n",
              "    <tbody>\n",
              "        <tr>\n",
              "            <td>32</td>\n",
              "        </tr>\n",
              "    </tbody>\n",
              "</table>"
            ],
            "text/plain": [
              "[(32,)]"
            ]
          },
          "metadata": {
            "tags": []
          },
          "execution_count": 30
        }
      ]
    },
    {
      "cell_type": "code",
      "metadata": {
        "colab": {
          "base_uri": "https://localhost:8080/",
          "height": 179
        },
        "id": "QE-MPsf42q9O",
        "outputId": "216aa29e-4ccb-4d22-fc11-fd541366609b"
      },
      "source": [
        "# Sort the Maize production in descending order by Districts,...\n",
        "# ... only taking into account Sub counties where Maize area is larger than Sorghum area,\n",
        "# ... and display the number of Sub counties per district matching that criteria.\n",
        "#\n",
        "%%sql\n",
        "SELECT DISTRICT_NAME, M_Prod_Tot, COUNT(SUBCOUNTY_NAME) FROM Uganda_Karamoja_Subcounty_Crop_Yield_Population\n",
        "WHERE M_Area_Ha > S_Area_Ha\n",
        "GROUP BY DISTRICT_NAME\n",
        "ORDER BY DISTRICT_NAME DESC;"
      ],
      "execution_count": null,
      "outputs": [
        {
          "output_type": "stream",
          "text": [
            " * sqlite://\n",
            "Done.\n"
          ],
          "name": "stdout"
        },
        {
          "output_type": "execute_result",
          "data": {
            "text/html": [
              "<table>\n",
              "    <thead>\n",
              "        <tr>\n",
              "            <th>DISTRICT_NAME</th>\n",
              "            <th>M_Prod_Tot</th>\n",
              "            <th>COUNT(SUBCOUNTY_NAME)</th>\n",
              "        </tr>\n",
              "    </thead>\n",
              "    <tbody>\n",
              "        <tr>\n",
              "            <td>NAPAK</td>\n",
              "            <td>291177.2726</td>\n",
              "            <td>2</td>\n",
              "        </tr>\n",
              "        <tr>\n",
              "            <td>NAKAPIRIPIRIT</td>\n",
              "            <td>1198586.875</td>\n",
              "            <td>3</td>\n",
              "        </tr>\n",
              "        <tr>\n",
              "            <td>MOROTO</td>\n",
              "            <td>46.22440465</td>\n",
              "            <td>3</td>\n",
              "        </tr>\n",
              "        <tr>\n",
              "            <td>KAABONG</td>\n",
              "            <td>934881.6576</td>\n",
              "            <td>3</td>\n",
              "        </tr>\n",
              "        <tr>\n",
              "            <td>AMUDAT</td>\n",
              "            <td>1340672.952</td>\n",
              "            <td>1</td>\n",
              "        </tr>\n",
              "    </tbody>\n",
              "</table>"
            ],
            "text/plain": [
              "[('NAPAK', 291177.2726, 2),\n",
              " ('NAKAPIRIPIRIT', 1198586.875, 3),\n",
              " ('MOROTO', 46.22440465, 3),\n",
              " ('KAABONG', 934881.6576, 3),\n",
              " ('AMUDAT', 1340672.952, 1)]"
            ]
          },
          "metadata": {
            "tags": []
          },
          "execution_count": 42
        }
      ]
    }
  ]
}