{
  "nbformat": 4,
  "nbformat_minor": 0,
  "metadata": {
    "colab": {
      "name": "Copy of Python Programming: Data Types",
      "provenance": [],
      "collapsed_sections": [
        "Fti179OmKM7c",
        "UxdDFPQKz3NS",
        "-BkSbASJUdKQ",
        "a_8-Y8pFUfZ4",
        "zH4fP7JMUqPG",
        "A5_RAp55UkF6",
        "s547kw_RlMAo",
        "lgNykfkVlPAq",
        "-HTYwkHal6e7",
        "KyVOjrcMr4wI",
        "eib75N_EnVqp",
        "1x6Hvs-jrru7"
      ],
      "toc_visible": true
    },
    "kernelspec": {
      "name": "python3",
      "display_name": "Python 3"
    }
  },
  "cells": [
    {
      "cell_type": "markdown",
      "metadata": {
        "id": "g4atfIoY1BjY"
      },
      "source": [
        "# Python Programming: Data Types"
      ]
    },
    {
      "cell_type": "markdown",
      "metadata": {
        "id": "Fti179OmKM7c"
      },
      "source": [
        "## 1.1 Introduction"
      ]
    },
    {
      "cell_type": "markdown",
      "metadata": {
        "id": "_Kl5unZ9KPIY"
      },
      "source": [
        "There are many different data types in Python. These data types can also be referred to as types of objects. We can start with the most common object types: strings, integers and floats. Anytime you write words (text) in Python, you're using character strings (strings for short). The most common numbers, on the other hand, are integers (e.g. -1, 0, 100) and floats, which represent real numbers (e.g. 3.14, -42.0)."
      ]
    },
    {
      "cell_type": "markdown",
      "metadata": {
        "id": "F8zU7otKNuU3"
      },
      "source": [
        "The following are examples of values with different data types;"
      ]
    },
    {
      "cell_type": "code",
      "metadata": {
        "id": "aLU0ZCM4KKMZ",
        "colab": {
          "base_uri": "https://localhost:8080/"
        },
        "outputId": "302c7878-4f9b-4057-d65a-904845ff0b45"
      },
      "source": [
        "# Example 1\n",
        "# Integer Data Type\n",
        "#\n",
        "55"
      ],
      "execution_count": null,
      "outputs": [
        {
          "output_type": "execute_result",
          "data": {
            "text/plain": [
              "55"
            ]
          },
          "metadata": {
            "tags": []
          },
          "execution_count": 8
        }
      ]
    },
    {
      "cell_type": "code",
      "metadata": {
        "id": "dm_ofqvwPQuP",
        "colab": {
          "base_uri": "https://localhost:8080/"
        },
        "outputId": "5d99e811-1b50-45e1-c4a4-992be2e21828"
      },
      "source": [
        "# Example 2\n",
        "# Float Data Type\n",
        "#\n",
        "3.142"
      ],
      "execution_count": null,
      "outputs": [
        {
          "output_type": "execute_result",
          "data": {
            "text/plain": [
              "3.142"
            ]
          },
          "metadata": {
            "tags": []
          },
          "execution_count": 9
        }
      ]
    },
    {
      "cell_type": "code",
      "metadata": {
        "id": "Vjla31TDQg4R",
        "colab": {
          "base_uri": "https://localhost:8080/",
          "height": 35
        },
        "outputId": "aeed57c1-ea4b-4587-aff5-edf231d24d79"
      },
      "source": [
        "# Example 3\n",
        "# String Data Type\n",
        "#\n",
        "\"Moringa Data Science\" "
      ],
      "execution_count": null,
      "outputs": [
        {
          "output_type": "execute_result",
          "data": {
            "application/vnd.google.colaboratory.intrinsic+json": {
              "type": "string"
            },
            "text/plain": [
              "'Moringa Data Science'"
            ]
          },
          "metadata": {
            "tags": []
          },
          "execution_count": 10
        }
      ]
    },
    {
      "cell_type": "markdown",
      "metadata": {
        "id": "uqmC6vfr24_f"
      },
      "source": [
        "### <font color=\"green\">1.1 Challenges </font>\n"
      ]
    },
    {
      "cell_type": "code",
      "metadata": {
        "id": "IpyXzkyYRnJ1",
        "colab": {
          "base_uri": "https://localhost:8080/"
        },
        "outputId": "4f2d3653-c3bf-4b68-c0a1-42a5a2ee0e02"
      },
      "source": [
        "# Challenge 1\n",
        "# Write a value with an Integer data type \n",
        "# \n",
        "print(10)"
      ],
      "execution_count": null,
      "outputs": [
        {
          "output_type": "stream",
          "text": [
            "10\n"
          ],
          "name": "stdout"
        }
      ]
    },
    {
      "cell_type": "code",
      "metadata": {
        "id": "fTkeiMm6Rrhc",
        "colab": {
          "base_uri": "https://localhost:8080/"
        },
        "outputId": "902a17c1-6652-4982-c0b3-2aea5895f409"
      },
      "source": [
        "# Challenge 2 \n",
        "# Write any value with a Float Data Type \n",
        "# \n",
        "print(1.5)"
      ],
      "execution_count": null,
      "outputs": [
        {
          "output_type": "stream",
          "text": [
            "1.5\n"
          ],
          "name": "stdout"
        }
      ]
    },
    {
      "cell_type": "code",
      "metadata": {
        "id": "-yxfZtWqRuoA",
        "colab": {
          "base_uri": "https://localhost:8080/"
        },
        "outputId": "4cb969eb-9315-4f16-c8fa-7bbf883d144e"
      },
      "source": [
        "# Challenge 3\n",
        "# Write any value with a String Data Type \n",
        "# \n",
        "print('Blocker')"
      ],
      "execution_count": null,
      "outputs": [
        {
          "output_type": "stream",
          "text": [
            "Blocker\n"
          ],
          "name": "stdout"
        }
      ]
    },
    {
      "cell_type": "markdown",
      "metadata": {
        "id": "UxdDFPQKz3NS"
      },
      "source": [
        "## 1.2 Finding Out Types"
      ]
    },
    {
      "cell_type": "markdown",
      "metadata": {
        "id": "sgBUpOEqRe8d"
      },
      "source": [
        "We can get Python to tell us the type of an expression by using the built-in type() function. We'll notice that Python refers to integers as int, floats as float, and character strings as str."
      ]
    },
    {
      "cell_type": "code",
      "metadata": {
        "id": "GQZq_V9NS09i",
        "colab": {
          "base_uri": "https://localhost:8080/"
        },
        "outputId": "14264600-5d97-49cb-a1b5-6bf9dc9eee1d"
      },
      "source": [
        "# Example 1\n",
        "# Finding out the type of 55\n",
        "#\n",
        "type(55)"
      ],
      "execution_count": null,
      "outputs": [
        {
          "output_type": "execute_result",
          "data": {
            "text/plain": [
              "int"
            ]
          },
          "metadata": {
            "tags": []
          },
          "execution_count": 5
        }
      ]
    },
    {
      "cell_type": "code",
      "metadata": {
        "id": "mKoaAXlNS8pt",
        "colab": {
          "base_uri": "https://localhost:8080/"
        },
        "outputId": "d9b2cbde-6036-456b-905f-759a651a1c14"
      },
      "source": [
        "# Example 2\n",
        "# Finding out the type of 3.142\n",
        "#\n",
        "type(3.142)"
      ],
      "execution_count": null,
      "outputs": [
        {
          "output_type": "execute_result",
          "data": {
            "text/plain": [
              "float"
            ]
          },
          "metadata": {
            "tags": []
          },
          "execution_count": 6
        }
      ]
    },
    {
      "cell_type": "code",
      "metadata": {
        "id": "55FxpuwtS8So",
        "colab": {
          "base_uri": "https://localhost:8080/"
        },
        "outputId": "dafbf578-37e1-432d-c0b8-13913026447e"
      },
      "source": [
        "# Example 3\n",
        "# Finding out the type of \"Moringa Data Science\"\n",
        "#\n",
        "type(\"Moringa Data Science\")"
      ],
      "execution_count": null,
      "outputs": [
        {
          "output_type": "execute_result",
          "data": {
            "text/plain": [
              "str"
            ]
          },
          "metadata": {
            "tags": []
          },
          "execution_count": 7
        }
      ]
    },
    {
      "cell_type": "markdown",
      "metadata": {
        "id": "gqLkQCti2_as"
      },
      "source": [
        "### <font color=\"green\">1.2 Challenges</font>"
      ]
    },
    {
      "cell_type": "code",
      "metadata": {
        "id": "9aeJPHk5RJW2",
        "colab": {
          "base_uri": "https://localhost:8080/"
        },
        "outputId": "a50ef124-e056-4dbe-bb4b-889a80dea972"
      },
      "source": [
        "# Challenge 4 \n",
        "# Now lets find out the type of our value in Challenge #1\n",
        "#\n",
        "type(10)"
      ],
      "execution_count": null,
      "outputs": [
        {
          "output_type": "execute_result",
          "data": {
            "text/plain": [
              "int"
            ]
          },
          "metadata": {
            "tags": []
          },
          "execution_count": 14
        }
      ]
    },
    {
      "cell_type": "code",
      "metadata": {
        "id": "xpxRzyfHT_VC",
        "colab": {
          "base_uri": "https://localhost:8080/"
        },
        "outputId": "f6127f2d-837c-483f-8967-05662df6e01d"
      },
      "source": [
        "# Challenge 5\n",
        "# What about the type of our value in Challenge #2\n",
        "# \n",
        "type(1.5)"
      ],
      "execution_count": null,
      "outputs": [
        {
          "output_type": "execute_result",
          "data": {
            "text/plain": [
              "float"
            ]
          },
          "metadata": {
            "tags": []
          },
          "execution_count": 15
        }
      ]
    },
    {
      "cell_type": "code",
      "metadata": {
        "id": "JSTdIHXdUErB",
        "colab": {
          "base_uri": "https://localhost:8080/"
        },
        "outputId": "bcf45350-36f0-4a5b-d72e-d51b3126961e"
      },
      "source": [
        "# Challenge 6\n",
        "# What about the type of our value in Challenge #3\n",
        "#\n",
        "type('Blocker')"
      ],
      "execution_count": null,
      "outputs": [
        {
          "output_type": "execute_result",
          "data": {
            "text/plain": [
              "str"
            ]
          },
          "metadata": {
            "tags": []
          },
          "execution_count": 16
        }
      ]
    },
    {
      "cell_type": "code",
      "metadata": {
        "id": "3A6nP_-XpcTA",
        "colab": {
          "base_uri": "https://localhost:8080/"
        },
        "outputId": "490498c5-0cec-4c1c-8f6d-6822d5569974"
      },
      "source": [
        "# Challenge 7 \n",
        "# What is the data type of the result of: 16 / 4?\n",
        "#\n",
        "result = 16/4\n",
        "print(result)\n",
        "type(result)"
      ],
      "execution_count": null,
      "outputs": [
        {
          "output_type": "stream",
          "text": [
            "4.0\n"
          ],
          "name": "stdout"
        },
        {
          "output_type": "execute_result",
          "data": {
            "text/plain": [
              "float"
            ]
          },
          "metadata": {
            "tags": []
          },
          "execution_count": 23
        }
      ]
    },
    {
      "cell_type": "code",
      "metadata": {
        "id": "_MC1ALIKpnyA",
        "colab": {
          "base_uri": "https://localhost:8080/"
        },
        "outputId": "7a109739-29f1-4bc2-e49f-29c25a979f85"
      },
      "source": [
        "# Challenge 8 \n",
        "# What is the type of the result of: 6 // 2? (Note the double slash //.)\n",
        "#\n",
        "double_slash = 6 // 2\n",
        "print(double_slash)\n",
        "type(double_slash)"
      ],
      "execution_count": null,
      "outputs": [
        {
          "output_type": "stream",
          "text": [
            "3\n"
          ],
          "name": "stdout"
        },
        {
          "output_type": "execute_result",
          "data": {
            "text/plain": [
              "int"
            ]
          },
          "metadata": {
            "tags": []
          },
          "execution_count": 22
        }
      ]
    },
    {
      "cell_type": "code",
      "metadata": {
        "id": "dDF33m3swR-Z",
        "colab": {
          "base_uri": "https://localhost:8080/"
        },
        "outputId": "7ce28f9b-b9fe-4875-e759-ed885e37f79b"
      },
      "source": [
        "# Challenge 9\n",
        "# What do you think is the output of type(a)? Run this cell and check\n",
        "# \n",
        "a = \"Learning Data Science is Easy\" \n",
        "a = 3 \n",
        "#Python programs are executed line by line from the top.\n",
        "type(a)"
      ],
      "execution_count": null,
      "outputs": [
        {
          "output_type": "execute_result",
          "data": {
            "text/plain": [
              "int"
            ]
          },
          "metadata": {
            "tags": []
          },
          "execution_count": 26
        }
      ]
    },
    {
      "cell_type": "code",
      "metadata": {
        "id": "2GaZ0Eggw7Iu",
        "colab": {
          "base_uri": "https://localhost:8080/"
        },
        "outputId": "fb8e3ee0-3cb2-4207-af32-f926514321b4"
      },
      "source": [
        "# Challenge 10\n",
        "# What do you think is the output of this cell? \n",
        "# Think about it then run it.\n",
        "#\n",
        "type(3.2) == float "
      ],
      "execution_count": null,
      "outputs": [
        {
          "output_type": "execute_result",
          "data": {
            "text/plain": [
              "True"
            ]
          },
          "metadata": {
            "tags": []
          },
          "execution_count": 27
        }
      ]
    },
    {
      "cell_type": "markdown",
      "metadata": {
        "id": "-BkSbASJUdKQ"
      },
      "source": [
        "## 1.3  Integers"
      ]
    },
    {
      "cell_type": "markdown",
      "metadata": {
        "id": "JyxHhUBWUrbg"
      },
      "source": [
        " Integers can be negative or positive numbers:"
      ]
    },
    {
      "cell_type": "code",
      "metadata": {
        "id": "BMEZZkF-Gv4s",
        "colab": {
          "base_uri": "https://localhost:8080/"
        },
        "outputId": "8f77d8ac-23af-4ffb-e2eb-fac2c1826b45"
      },
      "source": [
        "# Example 1\n",
        "# Again, we can verify whether this is the case by using the type() function\n",
        "#\n",
        "type(-300)"
      ],
      "execution_count": null,
      "outputs": [
        {
          "output_type": "execute_result",
          "data": {
            "text/plain": [
              "int"
            ]
          },
          "metadata": {
            "tags": []
          },
          "execution_count": 28
        }
      ]
    },
    {
      "cell_type": "markdown",
      "metadata": {
        "id": "Z6xx7moLqa2B"
      },
      "source": [
        "### <font color = \"green\">1.3 Challenges</font>"
      ]
    },
    {
      "cell_type": "code",
      "metadata": {
        "id": "dcOMS1Ywn2MG",
        "colab": {
          "base_uri": "https://localhost:8080/"
        },
        "outputId": "c4169bc9-f321-47e8-aac4-5431bef3ad25"
      },
      "source": [
        "# Challenge 1\n",
        "# What happens when we verify a positive number i.e 43\n",
        "#\n",
        "type(43)"
      ],
      "execution_count": null,
      "outputs": [
        {
          "output_type": "execute_result",
          "data": {
            "text/plain": [
              "int"
            ]
          },
          "metadata": {
            "tags": []
          },
          "execution_count": 29
        }
      ]
    },
    {
      "cell_type": "code",
      "metadata": {
        "id": "H0Ws1Ez1HqoT",
        "colab": {
          "base_uri": "https://localhost:8080/"
        },
        "outputId": "2b68adcb-20e7-4998-e218-da6b0b8c6b64"
      },
      "source": [
        "# Challenge 2\n",
        "# Let's verify zero below \n",
        "# \n",
        "type(-43)"
      ],
      "execution_count": null,
      "outputs": [
        {
          "output_type": "execute_result",
          "data": {
            "text/plain": [
              "int"
            ]
          },
          "metadata": {
            "tags": []
          },
          "execution_count": 30
        }
      ]
    },
    {
      "cell_type": "markdown",
      "metadata": {
        "id": "a_8-Y8pFUfZ4"
      },
      "source": [
        "## 1.4 Floats"
      ]
    },
    {
      "cell_type": "markdown",
      "metadata": {
        "id": "KK5QqqUFIorK"
      },
      "source": [
        "Floats represent real numbers; they also include \"numbers with decimals\". We can now test some examples with the type() function"
      ]
    },
    {
      "cell_type": "code",
      "metadata": {
        "id": "qLrhOz6eIpZ7",
        "colab": {
          "base_uri": "https://localhost:8080/"
        },
        "outputId": "4687ffbe-82d2-4dd8-b381-04671bea1684"
      },
      "source": [
        "# Example 1\n",
        "# Let's verify 1.0\n",
        "# \n",
        "type(1.0)"
      ],
      "execution_count": null,
      "outputs": [
        {
          "output_type": "execute_result",
          "data": {
            "text/plain": [
              "float"
            ]
          },
          "metadata": {
            "tags": []
          },
          "execution_count": 31
        }
      ]
    },
    {
      "cell_type": "markdown",
      "metadata": {
        "id": "Uc1Dx2gDqlQb"
      },
      "source": [
        "###<font color=\"green\"> 1.4 Challenges</font>"
      ]
    },
    {
      "cell_type": "code",
      "metadata": {
        "id": "AkXuR5UXoa4u",
        "colab": {
          "base_uri": "https://localhost:8080/"
        },
        "outputId": "b5baffb0-3717-43a2-bf23-fe71404eb0ff"
      },
      "source": [
        "# Challenge 1 \n",
        "# Let's now verify 0.7\n",
        "#\n",
        "type(0.7)"
      ],
      "execution_count": null,
      "outputs": [
        {
          "output_type": "execute_result",
          "data": {
            "text/plain": [
              "float"
            ]
          },
          "metadata": {
            "tags": []
          },
          "execution_count": 32
        }
      ]
    },
    {
      "cell_type": "code",
      "metadata": {
        "id": "W-dT0-3WWx7z",
        "colab": {
          "base_uri": "https://localhost:8080/"
        },
        "outputId": "91a903d7-5800-433f-ccc3-e06b16b64c47"
      },
      "source": [
        "# Challenge 2\n",
        "# Verifying the type of 0.53\n",
        "# \n",
        "type(0.53)"
      ],
      "execution_count": null,
      "outputs": [
        {
          "output_type": "execute_result",
          "data": {
            "text/plain": [
              "float"
            ]
          },
          "metadata": {
            "tags": []
          },
          "execution_count": 33
        }
      ]
    },
    {
      "cell_type": "markdown",
      "metadata": {
        "id": "zH4fP7JMUqPG"
      },
      "source": [
        "## 1.5 Boolean"
      ]
    },
    {
      "cell_type": "markdown",
      "metadata": {
        "id": "Bfvyjf_YmT-w"
      },
      "source": [
        "Boolean is another important type in Python. An object of type Boolean can take on one of two values: True or False:\n",
        "\n"
      ]
    },
    {
      "cell_type": "code",
      "metadata": {
        "id": "pLiD-enCmSyO",
        "colab": {
          "base_uri": "https://localhost:8080/"
        },
        "outputId": "c9aa0e72-db15-4582-a548-f2ad99948c2c"
      },
      "source": [
        "# Example 1\n",
        "# Let's run this cell and see what happens\n",
        "#\n",
        "True"
      ],
      "execution_count": null,
      "outputs": [
        {
          "output_type": "execute_result",
          "data": {
            "text/plain": [
              "True"
            ]
          },
          "metadata": {
            "tags": []
          },
          "execution_count": 34
        }
      ]
    },
    {
      "cell_type": "code",
      "metadata": {
        "id": "irtYN0ZZmv5Z",
        "colab": {
          "base_uri": "https://localhost:8080/"
        },
        "outputId": "3bd506c8-5120-49a0-8814-23b5e5fcd19e"
      },
      "source": [
        "# Example 2\n",
        "# Let's also run this cell and see what happens\n",
        "#\n",
        "False"
      ],
      "execution_count": null,
      "outputs": [
        {
          "output_type": "execute_result",
          "data": {
            "text/plain": [
              "False"
            ]
          },
          "metadata": {
            "tags": []
          },
          "execution_count": 35
        }
      ]
    },
    {
      "cell_type": "markdown",
      "metadata": {
        "id": "u3G52jpj2veu"
      },
      "source": [
        "### <font color=\"green\">1.5 Challenges</font>"
      ]
    },
    {
      "cell_type": "code",
      "metadata": {
        "id": "graRe9NCmioG",
        "colab": {
          "base_uri": "https://localhost:8080/",
          "height": 198
        },
        "outputId": "2468ad0d-1cec-4b75-8ff3-c539127d4ca4"
      },
      "source": [
        "# Challenge 1 \n",
        "# What happens when we run 'true' in this cell\n",
        "#\n",
        "true"
      ],
      "execution_count": null,
      "outputs": [
        {
          "output_type": "error",
          "ename": "NameError",
          "evalue": "ignored",
          "traceback": [
            "\u001b[0;31m---------------------------------------------------------------------------\u001b[0m",
            "\u001b[0;31mNameError\u001b[0m                                 Traceback (most recent call last)",
            "\u001b[0;32m<ipython-input-36-9d7400af3943>\u001b[0m in \u001b[0;36m<module>\u001b[0;34m()\u001b[0m\n\u001b[1;32m      2\u001b[0m \u001b[0;31m# What happens when we run 'true' in this cell\u001b[0m\u001b[0;34m\u001b[0m\u001b[0;34m\u001b[0m\u001b[0;34m\u001b[0m\u001b[0m\n\u001b[1;32m      3\u001b[0m \u001b[0;31m#\u001b[0m\u001b[0;34m\u001b[0m\u001b[0;34m\u001b[0m\u001b[0;34m\u001b[0m\u001b[0m\n\u001b[0;32m----> 4\u001b[0;31m \u001b[0mtrue\u001b[0m\u001b[0;34m\u001b[0m\u001b[0;34m\u001b[0m\u001b[0m\n\u001b[0m",
            "\u001b[0;31mNameError\u001b[0m: name 'true' is not defined"
          ]
        }
      ]
    },
    {
      "cell_type": "code",
      "metadata": {
        "id": "MuyXiaUPmz9U",
        "colab": {
          "base_uri": "https://localhost:8080/",
          "height": 198
        },
        "outputId": "036c75ed-1aca-4b54-8c4d-1202bc555a5d"
      },
      "source": [
        "# Challenge 2\n",
        "# What about what happens when we run 'false' in this cell\n",
        "#\n",
        "false"
      ],
      "execution_count": null,
      "outputs": [
        {
          "output_type": "error",
          "ename": "NameError",
          "evalue": "ignored",
          "traceback": [
            "\u001b[0;31m---------------------------------------------------------------------------\u001b[0m",
            "\u001b[0;31mNameError\u001b[0m                                 Traceback (most recent call last)",
            "\u001b[0;32m<ipython-input-37-2eb0f63eb5b5>\u001b[0m in \u001b[0;36m<module>\u001b[0;34m()\u001b[0m\n\u001b[1;32m      2\u001b[0m \u001b[0;31m# What about what happens when we run 'false' in this cell\u001b[0m\u001b[0;34m\u001b[0m\u001b[0;34m\u001b[0m\u001b[0;34m\u001b[0m\u001b[0m\n\u001b[1;32m      3\u001b[0m \u001b[0;31m#\u001b[0m\u001b[0;34m\u001b[0m\u001b[0;34m\u001b[0m\u001b[0;34m\u001b[0m\u001b[0m\n\u001b[0;32m----> 4\u001b[0;31m \u001b[0mfalse\u001b[0m\u001b[0;34m\u001b[0m\u001b[0;34m\u001b[0m\u001b[0m\n\u001b[0m",
            "\u001b[0;31mNameError\u001b[0m: name 'false' is not defined"
          ]
        }
      ]
    },
    {
      "cell_type": "code",
      "metadata": {
        "id": "10qmsXWgm5Hk",
        "colab": {
          "base_uri": "https://localhost:8080/"
        },
        "outputId": "d5dcb463-e23a-4d7b-ab79-5f983ea17049"
      },
      "source": [
        "# Challenge 3\n",
        "# Let's also find out type of False in this cell\n",
        "#\n",
        "type(False)"
      ],
      "execution_count": null,
      "outputs": [
        {
          "output_type": "execute_result",
          "data": {
            "text/plain": [
              "bool"
            ]
          },
          "metadata": {
            "tags": []
          },
          "execution_count": 38
        }
      ]
    },
    {
      "cell_type": "markdown",
      "metadata": {
        "id": "A5_RAp55UkF6"
      },
      "source": [
        "## 1.6 Conversion of Types"
      ]
    },
    {
      "cell_type": "markdown",
      "metadata": {
        "id": "Ajd9s536Ul66"
      },
      "source": [
        "We can change the type of the object in Python; this is called typecasting. For example, we can convert an integer into a float (e.g. 2 to 2.0)."
      ]
    },
    {
      "cell_type": "code",
      "metadata": {
        "id": "yJCPR5BEXp3G",
        "colab": {
          "base_uri": "https://localhost:8080/"
        },
        "outputId": "41fca7d4-2a65-4183-8008-85939db16c1b"
      },
      "source": [
        "# Example 1 \n",
        "# Let's first verify that this is an integer by running this cell. \n",
        "#\n",
        "type(2) "
      ],
      "execution_count": null,
      "outputs": [
        {
          "output_type": "execute_result",
          "data": {
            "text/plain": [
              "int"
            ]
          },
          "metadata": {
            "tags": []
          },
          "execution_count": 39
        }
      ]
    },
    {
      "cell_type": "markdown",
      "metadata": {
        "id": "s547kw_RlMAo"
      },
      "source": [
        "### 1.6a. Converting integers to floats\n"
      ]
    },
    {
      "cell_type": "code",
      "metadata": {
        "id": "4mP_uTVYkoKn",
        "colab": {
          "base_uri": "https://localhost:8080/"
        },
        "outputId": "f0d44ff2-20f5-4809-efa0-6962d761afaf"
      },
      "source": [
        "# Example 1\n",
        "# Let's now convert integer 2 to a float and check its type\n",
        "#\n",
        "type(float(2)) "
      ],
      "execution_count": null,
      "outputs": [
        {
          "output_type": "execute_result",
          "data": {
            "text/plain": [
              "float"
            ]
          },
          "metadata": {
            "tags": []
          },
          "execution_count": 40
        }
      ]
    },
    {
      "cell_type": "markdown",
      "metadata": {
        "id": "YWhO9m4mlAvg"
      },
      "source": [
        "When we convert an integer into a float, we don't really change the value (i.e., the significand) of the number. However, if we cast a float into an integer, we could potentially lose some information. For example, if we cast the float 1.1 to integer we will get 1 and lose the decimal information (i.e., 0.1):"
      ]
    },
    {
      "cell_type": "code",
      "metadata": {
        "id": "ghNEvJErk4Vu",
        "colab": {
          "base_uri": "https://localhost:8080/"
        },
        "outputId": "2cc4d3b2-f143-485c-dccb-d931ca1d9c12"
      },
      "source": [
        "# Example 2\n",
        "# Casting 1.1 to integer will result in loss of information\n",
        "#\n",
        "int(1.1) "
      ],
      "execution_count": null,
      "outputs": [
        {
          "output_type": "execute_result",
          "data": {
            "text/plain": [
              "1"
            ]
          },
          "metadata": {
            "tags": []
          },
          "execution_count": 41
        }
      ]
    },
    {
      "cell_type": "markdown",
      "metadata": {
        "id": "lgNykfkVlPAq"
      },
      "source": [
        "### 1.6b. Converting from strings to integers or floats\n"
      ]
    },
    {
      "cell_type": "markdown",
      "metadata": {
        "id": "rkSTFCOelV-y"
      },
      "source": [
        "Sometimes, we can have a string that contains a number within it. If this is the case, we can cast that string that represents a number into an integer using int():\n",
        "\n"
      ]
    },
    {
      "cell_type": "code",
      "metadata": {
        "id": "qK1OrMJYlSwk",
        "colab": {
          "base_uri": "https://localhost:8080/"
        },
        "outputId": "008843ad-3c08-46c9-9a19-216eb845776f"
      },
      "source": [
        "# Example 1\n",
        "# Let's convert a string into an integer\n",
        "#\n",
        "int('1')"
      ],
      "execution_count": null,
      "outputs": [
        {
          "output_type": "execute_result",
          "data": {
            "text/plain": [
              "1"
            ]
          },
          "metadata": {
            "tags": []
          },
          "execution_count": 42
        }
      ]
    },
    {
      "cell_type": "code",
      "metadata": {
        "id": "9ixyl-vAljSG",
        "colab": {
          "base_uri": "https://localhost:8080/",
          "height": 198
        },
        "outputId": "11efd391-0cd1-4930-8d50-197dbeadf53e"
      },
      "source": [
        "# Example 2\n",
        "# But if we try to do so with a string that is not a perfect match for a number, we will get an error. \n",
        "# \n",
        "int('1 or 2 people')"
      ],
      "execution_count": null,
      "outputs": [
        {
          "output_type": "error",
          "ename": "ValueError",
          "evalue": "ignored",
          "traceback": [
            "\u001b[0;31m---------------------------------------------------------------------------\u001b[0m",
            "\u001b[0;31mValueError\u001b[0m                                Traceback (most recent call last)",
            "\u001b[0;32m<ipython-input-43-7d12e6129095>\u001b[0m in \u001b[0;36m<module>\u001b[0;34m()\u001b[0m\n\u001b[1;32m      2\u001b[0m \u001b[0;31m# But if we try to do so with a string that is not a perfect match for a number, we will get an error.\u001b[0m\u001b[0;34m\u001b[0m\u001b[0;34m\u001b[0m\u001b[0;34m\u001b[0m\u001b[0m\n\u001b[1;32m      3\u001b[0m \u001b[0;31m#\u001b[0m\u001b[0;34m\u001b[0m\u001b[0;34m\u001b[0m\u001b[0;34m\u001b[0m\u001b[0m\n\u001b[0;32m----> 4\u001b[0;31m \u001b[0mint\u001b[0m\u001b[0;34m(\u001b[0m\u001b[0;34m'1 or 2 people'\u001b[0m\u001b[0;34m)\u001b[0m\u001b[0;34m\u001b[0m\u001b[0;34m\u001b[0m\u001b[0m\n\u001b[0m",
            "\u001b[0;31mValueError\u001b[0m: invalid literal for int() with base 10: '1 or 2 people'"
          ]
        }
      ]
    },
    {
      "cell_type": "code",
      "metadata": {
        "id": "1hR-LBq-lvCw",
        "colab": {
          "base_uri": "https://localhost:8080/"
        },
        "outputId": "5533776c-81f8-4299-afdb-d9635e6e4f05"
      },
      "source": [
        "# Example 3\n",
        "# We can also convert strings containing floating point numbers into float objects:\n",
        "#\n",
        "float('1.2') "
      ],
      "execution_count": null,
      "outputs": [
        {
          "output_type": "execute_result",
          "data": {
            "text/plain": [
              "1.2"
            ]
          },
          "metadata": {
            "tags": []
          },
          "execution_count": 44
        }
      ]
    },
    {
      "cell_type": "markdown",
      "metadata": {
        "id": "-HTYwkHal6e7"
      },
      "source": [
        "### 1.6c. Converting numbers to strings\n"
      ]
    },
    {
      "cell_type": "markdown",
      "metadata": {
        "id": "gLlTlzYml8Fu"
      },
      "source": [
        "If we can convert strings to numbers, it is only natural to assume that we can convert numbers to strings, right?\n",
        "\n"
      ]
    },
    {
      "cell_type": "code",
      "metadata": {
        "id": "XjEcrrz-mByz",
        "colab": {
          "base_uri": "https://localhost:8080/",
          "height": 35
        },
        "outputId": "3aebd84d-f91d-4c17-ce5c-9a1d22f71998"
      },
      "source": [
        "# Example 1\n",
        "# Let's Convert an integer to a string\n",
        "#\n",
        "str(1)"
      ],
      "execution_count": null,
      "outputs": [
        {
          "output_type": "execute_result",
          "data": {
            "application/vnd.google.colaboratory.intrinsic+json": {
              "type": "string"
            },
            "text/plain": [
              "'1'"
            ]
          },
          "metadata": {
            "tags": []
          },
          "execution_count": 45
        }
      ]
    },
    {
      "cell_type": "markdown",
      "metadata": {
        "id": "KyVOjrcMr4wI"
      },
      "source": [
        "#### <font color=\"green\">1.6c Challenges</font>"
      ]
    },
    {
      "cell_type": "code",
      "metadata": {
        "id": "Rk4YzQRGmH87",
        "colab": {
          "base_uri": "https://localhost:8080/",
          "height": 35
        },
        "outputId": "a4d97ddc-870f-4bad-8f60-1d54cd80dacd"
      },
      "source": [
        "# Challenge 1\n",
        "# And there is no reason why we shouldn't be able to make floats into strings as well:\n",
        "# Converting a float 1.2 to a string\n",
        "#\n",
        "str(1.2)"
      ],
      "execution_count": null,
      "outputs": [
        {
          "output_type": "execute_result",
          "data": {
            "application/vnd.google.colaboratory.intrinsic+json": {
              "type": "string"
            },
            "text/plain": [
              "'1.2'"
            ]
          },
          "metadata": {
            "tags": []
          },
          "execution_count": 46
        }
      ]
    },
    {
      "cell_type": "code",
      "metadata": {
        "id": "fnw2YsM8vswc",
        "colab": {
          "base_uri": "https://localhost:8080/",
          "height": 35
        },
        "outputId": "4c70d5ed-fd57-4247-c350-6962cd4902d3"
      },
      "source": [
        "# Challenge 2\n",
        "# How do you convert a digit 6/4 into a string?\n",
        "# \n",
        "type(6/4)\n",
        "str(6/4)"
      ],
      "execution_count": null,
      "outputs": [
        {
          "output_type": "execute_result",
          "data": {
            "application/vnd.google.colaboratory.intrinsic+json": {
              "type": "string"
            },
            "text/plain": [
              "'1.5'"
            ]
          },
          "metadata": {
            "tags": []
          },
          "execution_count": 48
        }
      ]
    },
    {
      "cell_type": "markdown",
      "metadata": {
        "id": "eib75N_EnVqp"
      },
      "source": [
        "### 1.6d. Boolean Casting\n",
        "We can cast boolean objects to other data types. If we cast a boolean with a value of True to an integer or float we will get a one. If we cast a boolean with a value of False to an integer or float we will get a zero. Similarly, if we cast a 1 to a Boolean, you get a True. And if we cast a 0 to a Boolean we will get a False. Let's give it a try:\n",
        "\n"
      ]
    },
    {
      "cell_type": "code",
      "metadata": {
        "id": "ggrd56z2rd5u",
        "colab": {
          "base_uri": "https://localhost:8080/"
        },
        "outputId": "fe20c982-09c5-4275-9c59-58ad66650890"
      },
      "source": [
        "# Example 1 \n",
        "# Let's cast 1 to a Boolean \n",
        "bool(1)"
      ],
      "execution_count": null,
      "outputs": [
        {
          "output_type": "execute_result",
          "data": {
            "text/plain": [
              "True"
            ]
          },
          "metadata": {
            "tags": []
          },
          "execution_count": 49
        }
      ]
    },
    {
      "cell_type": "markdown",
      "metadata": {
        "id": "1x6Hvs-jrru7"
      },
      "source": [
        "#### <font color=\"green\">1.6d Challenges</font>"
      ]
    },
    {
      "cell_type": "code",
      "metadata": {
        "id": "JjfxTMb1n_9z",
        "colab": {
          "base_uri": "https://localhost:8080/"
        },
        "outputId": "6a1c5fcb-43fe-4cfc-b36a-cb0458f2005d"
      },
      "source": [
        "# Challenge 1\n",
        "# Let's convert the value of True to an integer\n",
        "# \n",
        "int(True)"
      ],
      "execution_count": null,
      "outputs": [
        {
          "output_type": "execute_result",
          "data": {
            "text/plain": [
              "1"
            ]
          },
          "metadata": {
            "tags": []
          },
          "execution_count": 50
        }
      ]
    },
    {
      "cell_type": "code",
      "metadata": {
        "id": "1x5bcRVfoNHW",
        "colab": {
          "base_uri": "https://localhost:8080/"
        },
        "outputId": "4cc4d424-9755-4222-e2a8-35baa94192f1"
      },
      "source": [
        "# Challenge 2\n",
        "# What happens when we cast a 0 to a Boolean?\n",
        "# \n",
        "bool(0)"
      ],
      "execution_count": null,
      "outputs": [
        {
          "output_type": "execute_result",
          "data": {
            "text/plain": [
              "False"
            ]
          },
          "metadata": {
            "tags": []
          },
          "execution_count": 51
        }
      ]
    },
    {
      "cell_type": "code",
      "metadata": {
        "id": "VrCxNoqXo03X",
        "colab": {
          "base_uri": "https://localhost:8080/"
        },
        "outputId": "428f5b45-57f8-4dbb-a146-0749e9aaf5d8"
      },
      "source": [
        "# Challenge 3 \n",
        "# Let's cast a boolean with a value of True to an integer\n",
        "#\n",
        "int(True)"
      ],
      "execution_count": null,
      "outputs": [
        {
          "output_type": "execute_result",
          "data": {
            "text/plain": [
              "1"
            ]
          },
          "metadata": {
            "tags": []
          },
          "execution_count": 52
        }
      ]
    }
  ]
}